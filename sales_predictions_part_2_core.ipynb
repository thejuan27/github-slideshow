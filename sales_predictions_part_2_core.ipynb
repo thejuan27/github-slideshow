{
  "nbformat": 4,
  "nbformat_minor": 0,
  "metadata": {
    "colab": {
      "name": "sales-predictions-part 2 core",
      "provenance": [],
      "collapsed_sections": [],
      "authorship_tag": "ABX9TyMWUv9803dDgBgbzH0/aT+N",
      "include_colab_link": true
    },
    "kernelspec": {
      "name": "python3",
      "display_name": "Python 3"
    },
    "language_info": {
      "name": "python"
    }
  },
  "cells": [
    {
      "cell_type": "markdown",
      "metadata": {
        "id": "view-in-github",
        "colab_type": "text"
      },
      "source": [
        "<a href=\"https://colab.research.google.com/github/thejuan27/github-slideshow/blob/main/sales_predictions_part_2_core.ipynb\" target=\"_parent\"><img src=\"https://colab.research.google.com/assets/colab-badge.svg\" alt=\"Open In Colab\"/></a>"
      ]
    },
    {
      "cell_type": "code",
      "execution_count": 1,
      "metadata": {
        "colab": {
          "base_uri": "https://localhost:8080/"
        },
        "id": "sI4gNO2zxJyu",
        "outputId": "d47bf31c-7bb7-4f87-ca42-e4e651aaec1a"
      },
      "outputs": [
        {
          "output_type": "execute_result",
          "data": {
            "text/plain": [
              "8523"
            ]
          },
          "metadata": {},
          "execution_count": 1
        }
      ],
      "source": [
        "import pandas as pd\n",
        "filename= '/content/sales_predictions.csv'\n",
        "df = pd.read_csv(filename)\n",
        "df.head()\n",
        "df[df.columns[0]].count()\n"
      ]
    },
    {
      "cell_type": "code",
      "source": [
        "#Checking the size of the dataset\n",
        "print('Number of Rows',df.shape[0])\n",
        "print('Number of Column',df.shape[1])"
      ],
      "metadata": {
        "colab": {
          "base_uri": "https://localhost:8080/"
        },
        "id": "mhrrl1PjJvly",
        "outputId": "65249b7e-4845-462a-829b-244094dd2a24"
      },
      "execution_count": 2,
      "outputs": [
        {
          "output_type": "stream",
          "name": "stdout",
          "text": [
            "Number of Rows 8523\n",
            "Number of Column 12\n"
          ]
        }
      ]
    },
    {
      "cell_type": "code",
      "source": [
        "#Check the data type of each column\n",
        "df.info()"
      ],
      "metadata": {
        "id": "02vA7jfFx_eI",
        "colab": {
          "base_uri": "https://localhost:8080/"
        },
        "outputId": "46f40958-ca10-4424-a78e-a4efacf9712c"
      },
      "execution_count": 3,
      "outputs": [
        {
          "output_type": "stream",
          "name": "stdout",
          "text": [
            "<class 'pandas.core.frame.DataFrame'>\n",
            "RangeIndex: 8523 entries, 0 to 8522\n",
            "Data columns (total 12 columns):\n",
            " #   Column                     Non-Null Count  Dtype  \n",
            "---  ------                     --------------  -----  \n",
            " 0   Item_Identifier            8523 non-null   object \n",
            " 1   Item_Weight                7060 non-null   float64\n",
            " 2   Item_Fat_Content           8523 non-null   object \n",
            " 3   Item_Visibility            8523 non-null   float64\n",
            " 4   Item_Type                  8523 non-null   object \n",
            " 5   Item_MRP                   8523 non-null   float64\n",
            " 6   Outlet_Identifier          8523 non-null   object \n",
            " 7   Outlet_Establishment_Year  8523 non-null   int64  \n",
            " 8   Outlet_Size                6113 non-null   object \n",
            " 9   Outlet_Location_Type       8523 non-null   object \n",
            " 10  Outlet_Type                8523 non-null   object \n",
            " 11  Item_Outlet_Sales          8523 non-null   float64\n",
            "dtypes: float64(4), int64(1), object(7)\n",
            "memory usage: 799.2+ KB\n"
          ]
        }
      ]
    },
    {
      "cell_type": "code",
      "source": [
        "#Removing Dupicates\n",
        "df.drop_duplicates().any()\n",
        "#There are no duplicates\n",
        "\n",
        "bool_series = df.duplicated(keep='last')\n",
        "bool_series"
      ],
      "metadata": {
        "colab": {
          "base_uri": "https://localhost:8080/"
        },
        "id": "EZ6nkRpfHmcb",
        "outputId": "1ad57274-1e4a-4cd3-da74-0b2614b21056"
      },
      "execution_count": 4,
      "outputs": [
        {
          "output_type": "execute_result",
          "data": {
            "text/plain": [
              "0       False\n",
              "1       False\n",
              "2       False\n",
              "3       False\n",
              "4       False\n",
              "        ...  \n",
              "8518    False\n",
              "8519    False\n",
              "8520    False\n",
              "8521    False\n",
              "8522    False\n",
              "Length: 8523, dtype: bool"
            ]
          },
          "metadata": {},
          "execution_count": 4
        }
      ]
    },
    {
      "cell_type": "code",
      "source": [
        "#Determine the missing values\n",
        "df.isnull().sum()      "
      ],
      "metadata": {
        "colab": {
          "base_uri": "https://localhost:8080/"
        },
        "id": "F4PGREQZKcL-",
        "outputId": "02900ebd-aaf2-4552-8b0a-91959877fcc5"
      },
      "execution_count": 5,
      "outputs": [
        {
          "output_type": "execute_result",
          "data": {
            "text/plain": [
              "Item_Identifier                 0\n",
              "Item_Weight                  1463\n",
              "Item_Fat_Content                0\n",
              "Item_Visibility                 0\n",
              "Item_Type                       0\n",
              "Item_MRP                        0\n",
              "Outlet_Identifier               0\n",
              "Outlet_Establishment_Year       0\n",
              "Outlet_Size                  2410\n",
              "Outlet_Location_Type            0\n",
              "Outlet_Type                     0\n",
              "Item_Outlet_Sales               0\n",
              "dtype: int64"
            ]
          },
          "metadata": {},
          "execution_count": 5
        }
      ]
    },
    {
      "cell_type": "code",
      "source": [
        "#For the missing value under Item_Weight, I use interpolation to determine the missing value, this will help \n",
        "#to determine the average weight of the item\n",
        "\n",
        "df['Item_Weight'] = df.loc[0:,'Item_Weight'].interpolate(method = 'linear')\n",
        "#For outlet size, I use a constant to fill the null values. this way, I can still use the data but it will be subdivided to its categories \n",
        "#by not specified and other category\n",
        "df['Outlet_Size'] = df.loc[0:,'Item_Weight'].fillna(0)\n",
        "df.isnull().sum()    "
      ],
      "metadata": {
        "id": "en3ylE0AKdiH",
        "colab": {
          "base_uri": "https://localhost:8080/"
        },
        "outputId": "46dc584e-b285-401a-a52c-8816d84e3825"
      },
      "execution_count": 6,
      "outputs": [
        {
          "output_type": "execute_result",
          "data": {
            "text/plain": [
              "Item_Identifier              0\n",
              "Item_Weight                  0\n",
              "Item_Fat_Content             0\n",
              "Item_Visibility              0\n",
              "Item_Type                    0\n",
              "Item_MRP                     0\n",
              "Outlet_Identifier            0\n",
              "Outlet_Establishment_Year    0\n",
              "Outlet_Size                  0\n",
              "Outlet_Location_Type         0\n",
              "Outlet_Type                  0\n",
              "Item_Outlet_Sales            0\n",
              "dtype: int64"
            ]
          },
          "metadata": {},
          "execution_count": 6
        }
      ]
    },
    {
      "cell_type": "code",
      "source": [
        "#Checking inconsistent values in categories\n",
        "\n",
        "#Check first the Categorical Value of the Dataset\n",
        "df_cat = df.select_dtypes(include = ['object'])\n",
        "cat_names = df_cat.columns\n",
        "\n",
        "for column in cat_names:\n",
        "  print(column,df[column].unique())\n",
        "\n",
        "#Upon Check, Column for Item_Fat_Content and Outlet_Type have inconsistencies in their data"
      ],
      "metadata": {
        "colab": {
          "base_uri": "https://localhost:8080/"
        },
        "id": "0Oic9Cm5zbN7",
        "outputId": "a86dcc63-4be6-4506-b8fa-b6356e71357d"
      },
      "execution_count": 7,
      "outputs": [
        {
          "output_type": "stream",
          "name": "stdout",
          "text": [
            "Item_Identifier ['FDA15' 'DRC01' 'FDN15' ... 'NCF55' 'NCW30' 'NCW05']\n",
            "Item_Fat_Content ['Low Fat' 'Regular' 'low fat' 'LF' 'reg']\n",
            "Item_Type ['Dairy' 'Soft Drinks' 'Meat' 'Fruits and Vegetables' 'Household'\n",
            " 'Baking Goods' 'Snack Foods' 'Frozen Foods' 'Breakfast'\n",
            " 'Health and Hygiene' 'Hard Drinks' 'Canned' 'Breads' 'Starchy Foods'\n",
            " 'Others' 'Seafood']\n",
            "Outlet_Identifier ['OUT049' 'OUT018' 'OUT010' 'OUT013' 'OUT027' 'OUT045' 'OUT017' 'OUT046'\n",
            " 'OUT035' 'OUT019']\n",
            "Outlet_Location_Type ['Tier 1' 'Tier 3' 'Tier 2']\n",
            "Outlet_Type ['Supermarket Type1' 'Supermarket Type2' 'Grocery Store'\n",
            " 'Supermarket Type3']\n"
          ]
        }
      ]
    },
    {
      "cell_type": "code",
      "source": [
        "#Checking inconsistent values in number types\n",
        "\n",
        "df_num = df.select_dtypes(include = ['int64','float64'])\n",
        "num_names = df_num.columns\n",
        "\n",
        "for column in num_names:\n",
        "  print(column,df[column].unique())\n",
        "\n",
        "#Check for the minimum and maximum value\n",
        "  if column == 'Item_Weight':\n",
        "    print('Max',df['Item_Weight'].max())\n",
        "    print('Min',df['Item_Weight'].min())\n",
        "  if column == 'Item_Visibility':\n",
        "    print('Max',df['Item_Visibility'].max())\n",
        "    print('Min',df['Item_Visibility'].min()) \n",
        "  if column == 'Item_MRP':\n",
        "    print('Max',df['Item_MRP'].max())\n",
        "    print('Min',df['Item_MRP'].min())\n",
        "  if column == 'Outlet_Establishment_Year':\n",
        "    print('Max',df['Outlet_Establishment_Year'].max())\n",
        "    print('Min',df['Outlet_Establishment_Year'].min())\n",
        "  if column == 'Outlet_Size ':\n",
        "    print('Max',df['Outlet_Size '].max())\n",
        "    print('Min',df['Outlet_Size '].min())\n",
        "  if column == 'Item_Outlet_Sales':\n",
        "    print('Max',df['Item_Outlet_Sales'].max())\n",
        "    print('Min',df['Item_Outlet_Sales'].min())\n",
        "\n",
        "#Some values are subjective. Like the outlet sales"
      ],
      "metadata": {
        "colab": {
          "base_uri": "https://localhost:8080/"
        },
        "id": "FWwR9eZ0TNPP",
        "outputId": "498cec1a-b587-4f98-8763-2758794f2dcd"
      },
      "execution_count": 8,
      "outputs": [
        {
          "output_type": "stream",
          "name": "stdout",
          "text": [
            "Item_Weight [ 9.3         5.92       17.5        ... 19.11666667 18.23333333\n",
            " 13.8725    ]\n",
            "Max 21.35\n",
            "Min 4.555\n",
            "Item_Visibility [0.0160473  0.01927822 0.01676007 ... 0.03518627 0.14522065 0.04487828]\n",
            "Max 0.328390948\n",
            "Min 0.0\n",
            "Item_MRP [249.8092  48.2692 141.618  ...  57.5904 214.5218  75.467 ]\n",
            "Max 266.8884\n",
            "Min 31.29\n",
            "Outlet_Establishment_Year [1999 2009 1998 1987 1985 2002 2007 1997 2004]\n",
            "Max 2009\n",
            "Min 1985\n",
            "Outlet_Size [ 9.3         5.92       17.5        ... 19.11666667 18.23333333\n",
            " 13.8725    ]\n",
            "Item_Outlet_Sales [3735.138   443.4228 2097.27   ... 7182.6504 3608.636  2778.3834]\n",
            "Max 13086.9648\n",
            "Min 33.29\n"
          ]
        }
      ]
    },
    {
      "cell_type": "code",
      "source": [
        "#Cleaning the values under Item_Fat_Content\n",
        "df['Item_Fat_Content'].value_counts()\n"
      ],
      "metadata": {
        "colab": {
          "base_uri": "https://localhost:8080/"
        },
        "id": "bQbaXPcdUVxw",
        "outputId": "f3d7aeeb-422c-4380-afa9-02de05c74168"
      },
      "execution_count": 9,
      "outputs": [
        {
          "output_type": "execute_result",
          "data": {
            "text/plain": [
              "Low Fat    5089\n",
              "Regular    2889\n",
              "LF          316\n",
              "reg         117\n",
              "low fat     112\n",
              "Name: Item_Fat_Content, dtype: int64"
            ]
          },
          "metadata": {},
          "execution_count": 9
        }
      ]
    },
    {
      "cell_type": "code",
      "source": [
        "#Changing LF to Low Fat by replace\n",
        "df['Item_Fat_Content'].replace('LF', 'Low Fat',inplace=True)\n",
        "df['Item_Fat_Content'].replace('low fat', 'Low Fat',inplace=True)\n",
        "df['Item_Fat_Content'].replace('reg', 'Regular',inplace=True)"
      ],
      "metadata": {
        "id": "WuIpj2HeeomV"
      },
      "execution_count": 10,
      "outputs": []
    },
    {
      "cell_type": "code",
      "source": [
        "#Cleaning the values under Outlet_Type\n",
        "df['Outlet_Type'].value_counts()"
      ],
      "metadata": {
        "colab": {
          "base_uri": "https://localhost:8080/"
        },
        "id": "iIzhEvI8lCiG",
        "outputId": "7fab2a17-92cb-49c9-d56c-d9ffa4fced8b"
      },
      "execution_count": 12,
      "outputs": [
        {
          "output_type": "execute_result",
          "data": {
            "text/plain": [
              "Supermarket Type1    5577\n",
              "Grocery Store        1083\n",
              "Supermarket Type3     935\n",
              "Supermarket Type2     928\n",
              "Name: Outlet_Type, dtype: int64"
            ]
          },
          "metadata": {},
          "execution_count": 12
        }
      ]
    },
    {
      "cell_type": "code",
      "source": [
        "#Will replace the Grocery Store to Supermarket Type1 because it has the largest count, which could be the basic store\n",
        "df['Outlet_Type'].replace('Grocery Store', 'Supermarket Type1',inplace=True)\n",
        "df['Outlet_Type'].value_counts()"
      ],
      "metadata": {
        "colab": {
          "base_uri": "https://localhost:8080/"
        },
        "id": "_pksVF8Ff8jB",
        "outputId": "fb7f2e1a-72ef-4559-fd1d-4b4220126988"
      },
      "execution_count": 15,
      "outputs": [
        {
          "output_type": "execute_result",
          "data": {
            "text/plain": [
              "Supermarket Type1    6660\n",
              "Supermarket Type3     935\n",
              "Supermarket Type2     928\n",
              "Name: Outlet_Type, dtype: int64"
            ]
          },
          "metadata": {},
          "execution_count": 15
        }
      ]
    },
    {
      "cell_type": "code",
      "source": [
        "#Getting the min, max and mean of the Item_Visibility Column\n",
        "\n",
        "print('The Maximum value for the column Item_Visibility is',df['Item_Visibility'].max())\n",
        "print('The Minimum value for the column Item_Visibility is',df['Item_Visibility'].min())\n",
        "print('The Mean value for the column Item_Visibility is',df['Item_Visibility'].mean())\n"
      ],
      "metadata": {
        "id": "8Az0jXh1mAK1"
      },
      "execution_count": null,
      "outputs": []
    },
    {
      "cell_type": "code",
      "source": [
        "#Getting the min, max and mean of the Item_Weight Column\n",
        "\n",
        "print('The Maximum value for the column Item_Weight',df['Item_Weight'].max())\n",
        "print('The Minimum value for the column Item_Weight is',df['Item_Weight'].min())\n",
        "print('The Mean value for the column Item_Weight is',df['Item_Weight'].mean())"
      ],
      "metadata": {
        "colab": {
          "base_uri": "https://localhost:8080/"
        },
        "id": "7fB2dZjan304",
        "outputId": "b517fb4a-fcbe-41ae-dcca-af9204344f52"
      },
      "execution_count": 22,
      "outputs": [
        {
          "output_type": "stream",
          "name": "stdout",
          "text": [
            "The Maximum value for the column Item_Weight 21.35\n",
            "The Minimum value for the column Item_Weight is 4.555\n",
            "The Mean value for the column Item_Weight is 12.831222280887394\n"
          ]
        }
      ]
    },
    {
      "cell_type": "code",
      "source": [
        "#Getting the min, max and mean of the Item_MRP Column\n",
        "\n",
        "print('The Maximum value for the column Item_MRP',df['Item_MRP'].max())\n",
        "print('The Minimum value for the column Item_MRPt is',df['Item_MRP'].min())\n",
        "print('The Mean value for the column Item_MRP is',df['Item_MRP'].mean())"
      ],
      "metadata": {
        "colab": {
          "base_uri": "https://localhost:8080/"
        },
        "id": "3E7aOtmooIEe",
        "outputId": "de2f0cc5-06c7-4bcb-c4f0-fb09d1afeef6"
      },
      "execution_count": 23,
      "outputs": [
        {
          "output_type": "stream",
          "name": "stdout",
          "text": [
            "The Maximum value for the column Item_MRP 266.8884\n",
            "The Minimum value for the column Item_MRPt is 31.29\n",
            "The Mean value for the column Item_MRP is 140.9927819781768\n"
          ]
        }
      ]
    },
    {
      "cell_type": "code",
      "source": [
        "#Getting the min, max and mean of the Outlet_Establishment_Year Column\n",
        "\n",
        "print('The Maximum value for the column Outlet_Establishment_Year',df['Outlet_Establishment_Year'].max())\n",
        "print('The Minimum value for the column Outlet_Establishment_Year is',df['Outlet_Establishment_Year'].min())\n",
        "print('The Mean value for the column Outlet_Establishment_Year',df['Outlet_Establishment_Year'].mean())"
      ],
      "metadata": {
        "colab": {
          "base_uri": "https://localhost:8080/"
        },
        "id": "R5xSp7uwoWbs",
        "outputId": "3aa860f3-f835-47bd-ca6e-076a65e0bcc4"
      },
      "execution_count": 24,
      "outputs": [
        {
          "output_type": "stream",
          "name": "stdout",
          "text": [
            "The Maximum value for the column Outlet_Establishment_Year 2009\n",
            "The Minimum value for the column Outlet_Establishment_Year is 1985\n",
            "The Mean value for the column Outlet_Establishment_Year 1997.8318667135984\n"
          ]
        }
      ]
    },
    {
      "cell_type": "code",
      "source": [
        "#Getting the min, max and mean of the Outlet_Size Column\n",
        "print('The Maximum value for the column Outlet_Size',df['Outlet_Size'].max())\n",
        "print('The Minimum value for the column Outlet_Size',df['Outlet_Size'].min())\n",
        "print('The Mean value for the column Outlet_Size',df['Outlet_Size'].mean())"
      ],
      "metadata": {
        "colab": {
          "base_uri": "https://localhost:8080/"
        },
        "id": "9EYym4lDowsk",
        "outputId": "9bb3ad92-b414-4c54-b29a-18687a244adf"
      },
      "execution_count": 25,
      "outputs": [
        {
          "output_type": "stream",
          "name": "stdout",
          "text": [
            "The Maximum value for the column Outlet_Size 21.35\n",
            "The Minimum value for the column Outlet_Size 4.555\n",
            "The Mean value for the column Outlet_Size 12.831222280887394\n"
          ]
        }
      ]
    },
    {
      "cell_type": "code",
      "source": [
        "#Getting the min, max and mean of the Item_Outlet_Sales Column\n",
        "print('The Maximum value for the column Item_Outlet_Sales',df['Item_Outlet_Sales'].max())\n",
        "print('The Minimum value for the column Item_Outlet_Sales',df['Item_Outlet_Sales'].min())\n",
        "print('The Mean value for the column Item_Outlet_Sales',df['Item_Outlet_Sales'].mean())"
      ],
      "metadata": {
        "colab": {
          "base_uri": "https://localhost:8080/"
        },
        "id": "o3mHRLJZo-zH",
        "outputId": "b2ebdb43-1050-43cc-973e-26b5dbd91961"
      },
      "execution_count": 26,
      "outputs": [
        {
          "output_type": "stream",
          "name": "stdout",
          "text": [
            "The Maximum value for the column Item_Outlet_Sales 13086.9648\n",
            "The Minimum value for the column Item_Outlet_Sales 33.29\n",
            "The Mean value for the column Item_Outlet_Sales 2181.2889135750365\n"
          ]
        }
      ]
    }
  ]
}